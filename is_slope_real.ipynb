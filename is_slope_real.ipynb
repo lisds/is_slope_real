{
 "cells": [
  {
   "cell_type": "markdown",
   "id": "a31f81b1",
   "metadata": {},
   "source": [
    "# Is, slope, real\n",
    "\n",
    "This exercise follows on from the previous \"I, slope\" exercise"
   ]
  },
  {
   "cell_type": "code",
   "execution_count": null,
   "id": "00abab3c",
   "metadata": {},
   "outputs": [],
   "source": [
    "# Run this cell, but please don't change it.\n",
    "\n",
    "# These lines import the Numpy and Pandas modules.\n",
    "import numpy as np\n",
    "# Make a random number generator.\n",
    "rng = np.random.default_rng()\n",
    "\n",
    "import pandas as pd\n",
    "# Safe setting for Pandas.  Needs Pandas version >= 1.5.\n",
    "pd.set_option('mode.copy_on_write', True)\n",
    "\n",
    "from scipy.optimize import minimize\n",
    "\n",
    "# These lines do some fancy plotting magic.\n",
    "import matplotlib\n",
    "import matplotlib.pyplot as plt\n",
    "plt.style.use('fivethirtyeight')\n",
    "\n",
    "# These lines load the tests.\n",
    "from client.api.notebook import Notebook\n",
    "ok = Notebook('is_slope_real.ok')"
   ]
  },
  {
   "cell_type": "markdown",
   "id": "d6572f6e",
   "metadata": {},
   "source": [
    "## Hemoglobin and serum creatinine, again\n",
    "\n",
    "Again, we load the [data on chronic kidney disease](https://lisds.github.io/textbook/data/chronic_kidney_disease)."
   ]
  },
  {
   "cell_type": "code",
   "execution_count": null,
   "id": "f550bf85",
   "metadata": {},
   "outputs": [],
   "source": [
    "ckd = pd.read_csv('ckd_clean.csv')\n",
    "ckd.head()"
   ]
  },
  {
   "cell_type": "markdown",
   "id": "361cc56d",
   "metadata": {},
   "source": [
    "Again, our interest here is in these two variables / columns:\n",
    "\n",
    "* \"Hemoglobin\" : the concentration of the protein in red blood cells.  This\n",
    "  tends to go down in chronic kidney disease.\n",
    "* \"Serum creatinine\" : this is a measure of how well the kidney is clearing\n",
    "  waste products from the blood.  If your kidneys are working well, your\n",
    "  creatinine should be low."
   ]
  },
  {
   "cell_type": "code",
   "execution_count": null,
   "id": "ff518568",
   "metadata": {},
   "outputs": [],
   "source": [
    "ckd.plot.scatter('Hemoglobin', 'Serum Creatinine')"
   ]
  },
  {
   "cell_type": "markdown",
   "id": "e5f08f7d",
   "metadata": {},
   "source": [
    "In the [I, slope exercise](https://lisds.github.io/textbook/exercises/isloping.zip), you\n",
    "found the best-fit slope to these data, in least-squares sense.\n",
    "\n",
    "Looking at the plot, it seems as if there are two different things going on.\n",
    "\n",
    "* To the left of the plot, there are scattered values for low hemoglobin and\n",
    "  high creatinine, where it looks as if there is a weak straight line\n",
    "  relationship between them.\n",
    "* To the bottom right of the plot, there seems to be a tight cluster of values\n",
    "  with high hemoglobin and creatinine, which it is difficult to see signs of\n",
    "  a straight line relationship.\n",
    "\n",
    "This data table has one row per patient.   The `Class` column divides the rows (patients) into two groups:\n",
    "\n",
    "* Patients with chronic kidney disease have 1 in the `Class` column.\n",
    "* Patients without chronic kidney disease have 0 in the `Class` column.\n",
    "\n",
    "If you look at the \"Class\" values in the result of `ckd.head()` above, you'll\n",
    "see that the first five rows in the data frame correspond to chronic kidney\n",
    "disease patients.\n",
    "\n",
    "In fact, the last five rows correspond to patients without chronic kidney\n",
    "disease:"
   ]
  },
  {
   "cell_type": "code",
   "execution_count": null,
   "id": "0fb68eef",
   "metadata": {},
   "outputs": [],
   "source": [
    "# Show the last five rows of the data frame.\n",
    "# Have a look at the values for the \"Class\" column.\n",
    "ckd.tail()"
   ]
  },
  {
   "cell_type": "markdown",
   "id": "c9573a11",
   "metadata": {},
   "source": [
    "You might correctly speculate that patients with chronic kidney disease tend\n",
    "to have *both*:\n",
    "\n",
    "* low hemoglobin (mostly because the kidney makes the hormone that stimulates\n",
    "  the production of red blood cells, that contain hemoglobin)\n",
    "* high creatinine (because the kidneys cannot clear creatinine from the blood).\n",
    "\n",
    "Maybe the left part of the plot has the chronic kidney disease patients, and the right part has the patients without chronic kidney disease."
   ]
  },
  {
   "cell_type": "markdown",
   "id": "6d3b7606",
   "metadata": {},
   "source": [
    "## Select patients with chronic kidney disease (CKD)\n",
    "\n",
    "Make a new data frame called `ckd_patients` that contains only the patients labeled as having CKD.  Plot the Hemoglobin against Serum Creatinine for these patients."
   ]
  },
  {
   "cell_type": "code",
   "execution_count": null,
   "id": "d6144169",
   "metadata": {},
   "outputs": [],
   "source": [
    "ckd_patients = ...\n",
    "# Look at the last five values of the selected data frame.\n",
    "ckd_patients.tail()"
   ]
  },
  {
   "cell_type": "code",
   "execution_count": null,
   "id": "ff5f50ba",
   "metadata": {},
   "outputs": [],
   "source": [
    "_ = ok.grade('q_1_ckd_patients')"
   ]
  },
  {
   "cell_type": "markdown",
   "id": "a3a70659",
   "metadata": {},
   "source": [
    "Convert these \"Hemoglobin\" and \"Serum Creatinine\" values to Numpy arrays, for\n",
    "efficiency."
   ]
  },
  {
   "cell_type": "code",
   "execution_count": null,
   "id": "63d0dc2a",
   "metadata": {},
   "outputs": [],
   "source": [
    "hgb_ckd = ...\n",
    "creat_ckd = ..."
   ]
  },
  {
   "cell_type": "code",
   "execution_count": null,
   "id": "5bcba701",
   "metadata": {},
   "outputs": [],
   "source": [
    "_ = ok.grade('q_2_ckd_xy')"
   ]
  },
  {
   "cell_type": "markdown",
   "id": "b02f2de3",
   "metadata": {},
   "source": [
    "We are interested in the intercept and slope for this new line.  We start with\n",
    "a scatter plot.  The `axis` call below makes sure that we see the 0,0 point on\n",
    "the plot."
   ]
  },
  {
   "cell_type": "code",
   "execution_count": null,
   "id": "0aa254d9",
   "metadata": {},
   "outputs": [],
   "source": [
    "# Plot the hemoglobin and creatinine for the CKD patients.\n",
    "plt.scatter(hgb_ckd, creat_ckd)\n",
    "plt.xlabel('Hemoglobin')\n",
    "plt.ylabel('Creatinine')\n",
    "# Make sure we have the 0,0 point on the plot.\n",
    "plt.axis([0, np.max(hgb_ckd), 0, np.max(creat_ckd)])"
   ]
  },
  {
   "cell_type": "markdown",
   "id": "130397ea",
   "metadata": {},
   "source": [
    "Look at this plot, then make a guess for a good intercept and slope."
   ]
  },
  {
   "cell_type": "code",
   "execution_count": null,
   "id": "d64f57d6",
   "metadata": {},
   "outputs": [],
   "source": [
    "guessed_intercept = ...\n",
    "guessed_slope = ..."
   ]
  },
  {
   "cell_type": "markdown",
   "id": "81fab5d2",
   "metadata": {},
   "source": [
    "Now your job is to find the best (least-squares) line fitting `hgb_ckd` (on\n",
    "the x axis) to `creat_ckd` (on the y axis).\n",
    "\n",
    "Here we've helpfully copy-pasted the `rmse_any_line` function from [using\n",
    "minimize](https://lisds.github.io/textbook/mean-slopes/using_minimize)."
   ]
  },
  {
   "cell_type": "code",
   "execution_count": null,
   "id": "d68c7f48",
   "metadata": {},
   "outputs": [],
   "source": [
    "def rmse_any_line(c_s, x_values, y_values):\n",
    "    \"\"\" Root mean square error for line fitting y values to x values.\n",
    "\n",
    "    Parameters\n",
    "    ----------\n",
    "    c_s : sequence\n",
    "        Sequence, such as a list or array, with 2 elements.  The first is the\n",
    "        intercept, the second is the slope.\n",
    "    x_values : array\n",
    "        Array of x values to predict from, using line defined in `c_s`.\n",
    "    y_values : array\n",
    "        Array of y values to predict, using line defined in `c_s`.\n",
    "\n",
    "    Return\n",
    "    ------\n",
    "    rmse : float\n",
    "        Square root of the mean squared error.\n",
    "    \"\"\"\n",
    "    c, s = c_s\n",
    "    predicted = c + x_values * s\n",
    "    error = y_values - predicted\n",
    "    return np.sqrt(np.mean(error ** 2))"
   ]
  },
  {
   "cell_type": "markdown",
   "id": "f4007704",
   "metadata": {},
   "source": [
    "Your next job is to use minimize, with this function, and return the results.\n",
    "The results will include an attribute `x` that has the two-element array\n",
    "containing the intercept and slope."
   ]
  },
  {
   "cell_type": "code",
   "execution_count": null,
   "id": "b1659c6d",
   "metadata": {},
   "outputs": [],
   "source": [
    "# From your guesses above.\n",
    "start_c_s = [guessed_intercept, guessed_slope]\n",
    "# Now use the function and start guess to run \"minimize\"\n",
    "results = minimize(rmse_any_line, start_c_s, ...)\n",
    "# Show the returned results.\n",
    "results"
   ]
  },
  {
   "cell_type": "markdown",
   "id": "83658ee3",
   "metadata": {},
   "source": [
    "Finally fetch the intercept and slope that `minimize` found into their own\n",
    "variables."
   ]
  },
  {
   "cell_type": "code",
   "execution_count": null,
   "id": "91dfb687",
   "metadata": {},
   "outputs": [],
   "source": [
    "best_c_ckd, best_s_ckd = ...\n",
    "# Print the values.\n",
    "print(best_c_ckd, best_s_ckd)"
   ]
  },
  {
   "cell_type": "code",
   "execution_count": null,
   "id": "347d419d",
   "metadata": {},
   "outputs": [],
   "source": [
    "_ = ok.grade('q_3_ls_ckd')"
   ]
  },
  {
   "cell_type": "markdown",
   "id": "8bc272d1",
   "metadata": {},
   "source": [
    "The next question is --- can we trust this slope?  Or could the slope the\n",
    "negative have plausibly come about if we had drawn a random sample in a world\n",
    "where there is no linear relationship between the Hemoglobin and the Serum\n",
    "Creatinine, in the CKD patients.\n",
    "\n",
    "Use permutation to calculate the *sampling distribution* of the slope.  See\n",
    "[inference on slopes](https://lisds.github.io/textbook/mean-slopes/inference_on_slopes) for\n",
    "inspiration.\n",
    "\n",
    "As usual, let's start with a single *sample* (or trial) where we permute the y\n",
    "values and find the best slope for this random permutation:"
   ]
  },
  {
   "cell_type": "code",
   "execution_count": null,
   "id": "6b099bf6",
   "metadata": {},
   "outputs": [],
   "source": [
    "shuffled_creat = rng.permutation(creat_ckd)\n",
    "# Calculate the slope for this new permuted sequence of y values.\n",
    "results = ...\n",
    "# Show the results.\n",
    "results.x"
   ]
  },
  {
   "cell_type": "markdown",
   "id": "003f8706",
   "metadata": {},
   "source": [
    "Now take 1000 samples for the sampling distribution. If you take the usual\n",
    "10000 samples you will find the calculation takes a fairly long time."
   ]
  },
  {
   "cell_type": "code",
   "execution_count": null,
   "id": "309088a7",
   "metadata": {},
   "outputs": [],
   "source": [
    "# To store samples for the sampling distribution\n",
    "n_samples = 1000\n",
    "fake_slopes = np.zeros(n_samples)\n",
    "...\n",
    "# Show a histogram of the sampling distribution\n",
    "plt.hist(fake_slopes);"
   ]
  },
  {
   "cell_type": "code",
   "execution_count": null,
   "id": "989b931c",
   "metadata": {},
   "outputs": [],
   "source": [
    "_ = ok.grade('q_4_fake_slopes')"
   ]
  },
  {
   "cell_type": "markdown",
   "id": "299fd220",
   "metadata": {},
   "source": [
    "Calculate the proportion of the sampling distribution that is less than or equal to the observed best slope:"
   ]
  },
  {
   "cell_type": "code",
   "execution_count": null,
   "id": "9b880ba6",
   "metadata": {},
   "outputs": [],
   "source": [
    "p_slope = ...\n",
    "# Show proportion.\n",
    "p_slope"
   ]
  },
  {
   "cell_type": "code",
   "execution_count": null,
   "id": "73cbabb8",
   "metadata": {},
   "outputs": [],
   "source": [
    "_ = ok.grade('q_5_p_slope')"
   ]
  },
  {
   "cell_type": "markdown",
   "id": "4b4cf136",
   "metadata": {},
   "source": [
    "Looking back at the original plot of the CKD patients' values, we start to wonder whether the lowest and the highest values for Hemoglobin might be having an undue effect on the slope of the line.\n",
    "\n",
    "Calculate the mean and standard deviation of the `hgb_ckd` values.\n",
    "\n",
    "Make new arrays from which you have dropped the elements in `hgb_ckd` and\n",
    "`creat_ckd` corresponding to Hemoglobin values lower than the mean minus 2.5\n",
    "standard deviations, or higher than the mean plus 2.5 standard deviations."
   ]
  },
  {
   "cell_type": "markdown",
   "id": "090b6be8",
   "metadata": {},
   "source": [
    "Just to remind you, `np.std` gives you the standard deviation of an array."
   ]
  },
  {
   "cell_type": "code",
   "execution_count": null,
   "id": "c576a24f",
   "metadata": {},
   "outputs": [],
   "source": [
    "std_ckd = np.std(hgb_ckd)\n",
    "std_ckd"
   ]
  },
  {
   "cell_type": "markdown",
   "id": "b5bed2d3",
   "metadata": {},
   "source": [
    "*Hint*: consider `logical_and` or `np.abs`."
   ]
  },
  {
   "cell_type": "code",
   "execution_count": null,
   "id": "d023eb73",
   "metadata": {
    "lines_to_next_cell": 2
   },
   "outputs": [],
   "source": [
    "hgb_clean = ...\n",
    "creat_clean = ...\n",
    "# Plot the new arrays.\n",
    "plt.plot(hgb_clean, creat_clean, 'o')"
   ]
  },
  {
   "cell_type": "code",
   "execution_count": null,
   "id": "1c514ba9",
   "metadata": {},
   "outputs": [],
   "source": [
    "_ = ok.grade('q_6_cleaned')"
   ]
  },
  {
   "cell_type": "markdown",
   "id": "4f34dde4",
   "metadata": {},
   "source": [
    "Recalculate the best-fit slope for these arrays, from which you have dropped\n",
    "the elements corresponding to extreme values."
   ]
  },
  {
   "cell_type": "code",
   "execution_count": null,
   "id": "d3b1d78c",
   "metadata": {},
   "outputs": [],
   "source": [
    "results = minimize(...)\n",
    "best_c_clean, best_s_clean = ...\n",
    "# Print the values.\n",
    "print(best_c_clean, best_s_clean)"
   ]
  },
  {
   "cell_type": "code",
   "execution_count": null,
   "id": "204d37e0",
   "metadata": {},
   "outputs": [],
   "source": [
    "_ = ok.grade('q_7_ls_clean')"
   ]
  },
  {
   "cell_type": "markdown",
   "id": "333dac0d",
   "metadata": {},
   "source": [
    "Use permutation to recalculate the sampling distribution for this slope.\n",
    "Again, calculate 1000 samples rather than the standard 10000, in order to save\n",
    "time.\n"
   ]
  },
  {
   "cell_type": "code",
   "execution_count": null,
   "id": "900fbcc2",
   "metadata": {},
   "outputs": [],
   "source": [
    "# To store samples for the sampling distribution\n",
    "n_samples = 1000\n",
    "fake_slopes_clean = np.zeros(n_samples)\n",
    "...\n",
    "# Show a histogram of the sampling distribution\n",
    "plt.hist(fake_slopes_clean);"
   ]
  },
  {
   "cell_type": "code",
   "execution_count": null,
   "id": "ca41e913",
   "metadata": {},
   "outputs": [],
   "source": [
    "_ = ok.grade('q_8_fake_slopes_clean')"
   ]
  },
  {
   "cell_type": "markdown",
   "id": "c8beccd8",
   "metadata": {},
   "source": [
    "Calculate the proportion of the new sampling distribution that is less than or\n",
    "equal to the observed best slope:"
   ]
  },
  {
   "cell_type": "code",
   "execution_count": null,
   "id": "460c429e",
   "metadata": {},
   "outputs": [],
   "source": [
    "p_slope_clean = ...\n",
    "# Show proportion.\n",
    "p_slope_clean"
   ]
  },
  {
   "cell_type": "code",
   "execution_count": null,
   "id": "94b7474b",
   "metadata": {},
   "outputs": [],
   "source": [
    "_ = ok.grade('q_9_p_slope_clean')"
   ]
  },
  {
   "cell_type": "markdown",
   "id": "580d86b6",
   "metadata": {},
   "source": [
    "Are you still convinced by the negative linear relationship between hemoglobin and serum creatinine?"
   ]
  },
  {
   "cell_type": "markdown",
   "id": "97ddf749",
   "metadata": {},
   "source": [
    "## Done\n",
    "\n",
    "You're finished with the assignment!  Be sure to...\n",
    "\n",
    "- **run all the tests** (the next cell has a shortcut for that),\n",
    "- **Save and Checkpoint** from the \"File\" menu.\n",
    "- Finally, **restart** the kernel for this notebook, and **run all the cells**,\n",
    "  to check that the notebook still works without errors.  Use the\n",
    "  \"Kernel\" menu, and choose \"Restart and run all\".  If you find any\n",
    "  problems, go back and fix them, save the notebook, and restart / run\n",
    "  all again, before submitting.  When you do this, you make sure that\n",
    "  we, your humble markers, will be able to mark your notebook."
   ]
  },
  {
   "cell_type": "code",
   "execution_count": null,
   "id": "9445fcba",
   "metadata": {},
   "outputs": [],
   "source": [
    "# For your convenience, you can run this cell to run all the tests at once!\n",
    "import os\n",
    "_ = [ok.grade(q[:-3]) for q in os.listdir(\"tests\") if q.startswith('q')]"
   ]
  }
 ],
 "metadata": {
  "jupytext": {
   "notebook_metadata_filter": "all,-language_info",
   "split_at_heading": true,
   "text_representation": {
    "extension": ".Rmd",
    "format_name": "rmarkdown",
    "format_version": "1.2",
    "jupytext_version": "1.14.1"
   }
  },
  "kernelspec": {
   "display_name": "Python 3 (ipykernel)",
   "language": "python",
   "name": "python3"
  }
 },
 "nbformat": 4,
 "nbformat_minor": 5
}
